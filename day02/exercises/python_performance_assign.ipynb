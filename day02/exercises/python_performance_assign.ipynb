{
   "cells": [
    {
     "cell_type": "markdown",
     "id": "09127981",
     "metadata": {},
     "source": [
      "<h1 align=\"center\">Python performance exercises</h1>"
     ]
    },
    {
     "cell_type": "markdown",
     "id": "aec3b2e9",
     "metadata": {},
     "source": [
      "## Python best practices exercises"
     ]
    },
    {
     "cell_type": "markdown",
     "id": "ad5ba6f1",
     "metadata": {},
     "source": [
      "### Exercise 1\n",
      "\n",
      "considering the following function for concatenating list strings with deliter."
     ]
    },
    {
     "cell_type": "code",
     "execution_count": 29,
     "id": "9754d772",
     "metadata": {},
     "outputs": [],
     "source": [
      "def ft_concatenate(l_strings, d):\n",
      "    \"\"\"concatenate list of strings into one string separated by delimeter\"\"\"\n",
      "    res = l_strings[0]\n",
      "    for e in l_strings[1:]:\n",
      "        res = res + d + e\n",
      "    return res"
     ]
    },
    {
     "cell_type": "code",
     "execution_count": 30,
     "id": "eb775a4b",
     "metadata": {},
     "outputs": [
      {
       "name": "stdout",
       "output_type": "stream",
       "text": [
        "The line_profiler extension is already loaded. To reload it, use:\n",
        "  %reload_ext line_profiler\n"
       ]
      }
     ],
     "source": [
      "%load_ext line_profiler"
     ]
    },
    {
     "cell_type": "code",
     "execution_count": 33,
     "id": "facbaed6",
     "metadata": {},
     "outputs": [],
     "source": [
      "L=[]\n",
      "for i in range(300):\n",
      "    L.append('a'*100)\n",
      "%lprun -f ft_concatenate ft_concatenate(L, ' ')"
     ]
    },
    {
     "cell_type": "markdown",
     "id": "9b9e451b",
     "metadata": {},
     "source": [
      "- profile the function and identify the bottlenecks.\n",
      "- improve speed up of the function\n",
      "*Hint: you may need to look to the string functions in python documentation*"
     ]
    },
    {
     "cell_type": "code",
     "execution_count": 35,
     "id": "1f0ded92",
     "metadata": {},
     "outputs": [
      {
       "name": "stdout",
       "output_type": "stream",
       "text": [
        " "
       ]
      }
     ],
     "source": [
      "# write your code here\n",
      "def ft_concatenate_1(l_strings, d):\n",
      "    \"\"\"concatenate list of strings into one string separated by delimeter\"\"\"\n",
      "    return d.join(l_strings)\n",
      "string = ['this', 'is', 'a', 'test']\n",
      "d = ' '\n",
      "\n",
      "%prun ft_concatenate_1(L, d)"
     ]
    },
    {
     "cell_type": "markdown",
     "id": "9d3a9357",
     "metadata": {},
     "source": [
      "### Exercise 2\n",
      "\n",
      "In this exercise you will solve the following problem using two methods bruteforce mehode, and fast method.\n",
      "\n",
      "**Problem:** You are given a list of n integers, and your task is to calculate the number of distinct values in the list.\n",
      "\n",
      "**Example**\n",
      "- Input:\n",
      "5\n",
      "2 3 2 2 3\n",
      "\n",
      "- Output:\n",
      "2\n",
      "\n",
      "**Implement the following methodes:**\n",
      "\n",
      "1. **bruteforce mehode:** create an empty list and start adding items for the given list without adding the previous item add, at the end the result list will contain unique values, print lenght of the list and you are done. \n",
      "2. **fast method** think of using Set data structure.\n",
      "\n",
      "- time the two methods, what do you think?"
     ]
    },
    {
     "cell_type": "code",
     "execution_count": 14,
     "id": "68624c30",
     "metadata": {},
     "outputs": [],
     "source": [
      "# bruteforce fast method\n",
      "def burteforce(ipt):\n",
      "    res = []\n",
      "    for i in ipt:\n",
      "        if i not in res:\n",
      "            res.append(i)\n",
      "    return len(res)\n"
     ]
    },
    {
     "cell_type": "code",
     "execution_count": 17,
     "id": "8be59e6b",
     "metadata": {},
     "outputs": [],
     "source": [
      "# write fast method\n",
      "def fast_method(ipt):\n",
      "    return len(set(ipt))\n",
      "    "
     ]
    },
    {
     "cell_type": "code",
     "execution_count": 48,
     "id": "15131d55",
     "metadata": {},
     "outputs": [
      {
       "name": "stdout",
       "output_type": "stream",
       "text": [
        "53.7 µs ± 11 µs per loop (mean ± std. dev. of 7 runs, 10000 loops each)\n"
       ]
      }
     ],
     "source": [
      "# Creat two random lists of numbers for testing\n",
      "l = [np.random.rand() for i in range(100)]\n",
      "# time the two methods\n",
      "%timeit burteforce(l)"
     ]
    },
    {
     "cell_type": "code",
     "execution_count": 49,
     "id": "02b964a5",
     "metadata": {},
     "outputs": [
      {
       "name": "stdout",
       "output_type": "stream",
       "text": [
        "5.29 µs ± 45.9 ns per loop (mean ± std. dev. of 7 runs, 100000 loops each)\n"
       ]
      }
     ],
     "source": [
      "%timeit fast_method(l)"
     ]
    },
    {
     "cell_type": "markdown",
     "id": "e53c0d53",
     "metadata": {},
     "source": [
      "## Cython exercises"
     ]
    },
    {
     "cell_type": "markdown",
     "id": "b33cb080",
     "metadata": {},
     "source": [
      "### Exercise 1"
     ]
    },
    {
     "cell_type": "markdown",
     "id": "985c05fd",
     "metadata": {},
     "source": [
      "1. load the cython extension."
     ]
    },
    {
     "cell_type": "code",
     "execution_count": 48,
     "id": "2c930dff",
     "metadata": {},
     "outputs": [],
     "source": [
      "from distutils.core import setup\n",
      "from Cython.Build import cythonize\n",
      "\n",
      "#setup(ext_modules = cythonize('example_cython.pyx'))"
     ]
    },
    {
     "cell_type": "markdown",
     "id": "ddd4b46e",
     "metadata": {},
     "source": [
      "2. Condidering the following polynome function:"
     ]
    },
    {
     "cell_type": "code",
     "execution_count": 12,
     "id": "23fa41c6",
     "metadata": {},
     "outputs": [],
     "source": [
      "def poly(a,b):\n",
      "    return 10.5 * a + 3 * (b**2)"
     ]
    },
    {
     "cell_type": "markdown",
     "id": "6f9749a2",
     "metadata": {},
     "source": [
      "- Create an equivalent Cython function of `poly` with name `poly_cy` without any cython improvement, just make its cell a cython cell."
     ]
    },
    {
     "cell_type": "markdown",
     "id": "20bc5a46",
     "metadata": {},
     "source": [
      "\n"
     ]
    },
    {
     "cell_type": "markdown",
     "id": "75ebbe8b",
     "metadata": {},
     "source": [
      "3. time the performance of Python and Cython version of the function, what is the factor of speed up here between the two verions."
     ]
    },
    {
     "cell_type": "code",
     "execution_count": 43,
     "id": "734b24e0",
     "id": "c1dc2280",
     "metadata": {},
     "outputs": [],
     "source": [
      "%load_ext cython"
     ]
    },
    {
     "cell_type": "code",
     "execution_count": 50,
     "id": "2f5373a0",
     "metadata": {},
     "outputs": [
      {
       "ename": "SyntaxError",
       "evalue": "invalid syntax (1442391334.py, line 3)",
       "output_type": "error",
       "traceback": [
        "\u001b[0;36m  File \u001b[0;32m\"/tmp/ipykernel_52837/1442391334.py\"\u001b[0;36m, line \u001b[0;32m3\u001b[0m\n\u001b[0;31m    def ploy_cy(int a, int b):\u001b[0m\n\u001b[0m                    ^\u001b[0m\n\u001b[0;31mSyntaxError\u001b[0m\u001b[0;31m:\u001b[0m invalid syntax\n"
       ]
      }
     ],
     "source": [
      "# write your code here\n",
      "%cython\n",
      "def ploy_cy(int a, int b):\n",
      "    return 10.5 * a + 3 * (b**2)"
     ]
    },
    {
     "cell_type": "markdown",
     "id": "ecee1aef",
     "metadata": {},
     "source": [
      "4. Now lets work on another examples using loop.\n",
      "    - rewrite the same function below fib that calculate fibonacci series using cython, but now try to add type for the variables used inside it, add a prefix `_cy` to your new cython function."
     ]
    },
    {
     "cell_type": "code",
     "execution_count": 14,
     "id": "b8575981",
     "metadata": {},
     "outputs": [],
     "source": [
      "def fib(n):\n",
      "    a, b = 1, 1\n",
      "    for i in range(n):\n",
      "        a, b = a + b, a\n",
      "\n",
      "    return a"
     ]
    },
    {
     "cell_type": "code",
     "execution_count": 9,
     "id": "13b2da9f",
     "metadata": {},
     "outputs": [
      {
       "ename": "SyntaxError",
       "evalue": "invalid syntax (3816469002.py, line 2)",
       "output_type": "error",
       "traceback": [
        "\u001b[0;36m  File \u001b[0;32m\"/tmp/ipykernel_35502/3816469002.py\"\u001b[0;36m, line \u001b[0;32m2\u001b[0m\n\u001b[0;31m    def fib_cy(int n):\u001b[0m\n\u001b[0m                   ^\u001b[0m\n\u001b[0;31mSyntaxError\u001b[0m\u001b[0;31m:\u001b[0m invalid syntax\n"
       ]
      }
     ],
     "source": [
      "# write your code here\n",
      "def fib_cy(int n):\n",
      "    int a, int b = 1, 1\n",
      "    for i in range(n):\n",
      "        a, b = a + b, a"
     ]
    },
    {
     "cell_type": "markdown",
     "id": "8b9eb0e4",
     "metadata": {},
     "source": [
      "- time the two function for fibonacci series, with n = 20, what is the factor of speed now, What do you think?"
     ]
    },
    {
     "cell_type": "code",
     "execution_count": 16,
     "id": "fb3ab6f7",
     "metadata": {},
     "outputs": [],
     "source": [
      "# write your code here\n",
      "%time \n",
      "fib(20)"
     ]
    },
    {
     "cell_type": "code",
     "execution_count": null,
     "id": "e52acf3d",
     "metadata": {},
     "outputs": [],
     "source": [
      "%time\n",
      "fib_cy(20)"
     ]
    },
    {
     "cell_type": "markdown",
     "id": "c874b1c2",
     "metadata": {},
     "source": [
      "5. Recursive functions are functions that call themselves during their execution. Another interesting property of the Fibonacci series is that it can be written as a recursive function. That’s because each item depends on the values of other items (namely item n-1 and item n-2)\n",
      "\n",
      "- Rewrite the fib function using recursion. Is it faster than the non-recursive version? Does Cythonizing it give even more of an advantage? "
     ]
    },
    {
     "cell_type": "code",
     "execution_count": 17,
     "id": "e05d16a9",
     "metadata": {},
     "outputs": [],
     "source": [
      "# write your code here\n",
      "def fib_rec(n):\n",
      "    if n == 1:\n",
      "        return 1\n",
      "    elif n <= 0:\n",
      "        return 0\n",
      "    else:\n",
      "        return fib_rec(n-1)+fib_rec(n-2)\n"
     ]
    },
    {
     "cell_type": "code",
     "execution_count": null,
     "id": "8f71f1a8",
     "metadata": {},
     "outputs": [],
     "source": [
      "# write your code here\n",
      "def fib_rec_cy(int n):\n",
      "    if n == 1:\n",
      "        return 1\n",
      "    elif n <= 0:\n",
      "        return 0\n",
      "    else:\n",
      "        return fib_rec(n-1)+fib_rec(n-2)\n"
     ]
    },
    {
     "cell_type": "code",
     "execution_count": null,
     "id": "7f107fe8",
     "metadata": {},
     "outputs": [],
     "source": [
      "%time \n",
      "fib_rec(20)"
     ]
    },
    {
     "cell_type": "code",
     "execution_count": null,
     "id": "c1e34975",
     "metadata": {},
     "outputs": [],
     "source": [
      "%time\n",
      "fib_rec_cy(20)"
     ]
    },
    {
     "cell_type": "markdown",
     "id": "9f34c567",
     "metadata": {},
     "source": [
      "### Exercise 2\n",
      "\n",
      "- Monte Carlo methods are a broad class of computational algorithms that rely on repeated random sampling to obtain numerical results. \n",
      "- One of the basic examples of getting started with the Monte Carlo algorithm is the estimation of Pi.\n",
      "\n",
      "**Estimation of Pi**\n",
      "\n",
      "- The idea is to simulate random (x, y) points in a 2-D plane with domain as a square of side 1 unit. \n",
      "- Imagine a circle inside the same domain with same diameter and inscribed into the square. \n",
      "- We then calculate the ratio of number points that lied inside the circle and total number of generated points. \n",
      "- Refer to the image below:\n",
      "\n",
      "![demo](../data/MonteCarloPlot.png)\n",
      "\n",
      "We know that area of the square is 1 unit sq while that of circle is $\\pi \\ast  (\\frac{1}{2})^{2} = \\frac{\\pi}{4}$. Now for a very large number of generated points,\n",
      "\n",
      "![demo](../data/MonteCarloCalc.png)\n",
      "\n",
      "\n",
      "## The Algorithm\n",
      "\n",
      "1. Initialize cile_points, square_points and interval to 0.\n",
      "2. Generate random point x.\n",
      "3. Generate random point y.\n",
      "4. Calculate d = x*x + y*y.\n",
      "5. If d <= 1, increment circle_points.\n",
      "6. Increment square_points.\n",
      "7. Increment interval.\n",
      "8. If increment < NO_OF_ITERATIONS, repeat from 2.\n",
      "9. Calculate pi = 4*(circle_points/square_points).\n",
      "10. Terminate."
     ]
    },
    {
     "cell_type": "markdown",
     "id": "b30e8d54",
     "metadata": {},
     "source": [
      "**Your mission:** time the function `monte_carlo_pi`, identify the bottlenecks and create a new version using cython functionality to speed up monte carlo simulation for PI, use 100,000 points and compare the speed up factor between python and cython, considering the following optimizations:\n",
      "- add type for variables used.\n",
      "- add type for the function\n",
      "- use c rand function instead of python rand function.\n",
      " \n",
      "*Hint: you can import function from C libraries using the following approach `from libc.<name of c library> cimport <library function name>`, replace the holders `<>` with the right identities for the current problem*"
     ]
    },
    {
     "cell_type": "code",
     "execution_count": 10,
     "id": "389b89c4",
     "metadata": {},
     "outputs": [],
     "source": [
      "import random\n",
      "def monte_carlo_pi(nsamples):\n",
      "    pi = 0.\n",
      "   # Implement your code here\n",
      "    cile_points = 0\n",
      "    square_points = 0\n",
      "    for i in range(nsamples):\n",
      "        x = random.random()\n",
      "        y = random.random()\n",
      "        d = x**2 + y**2\n",
      "        if d<=1:\n",
      "            cile_points += 1\n",
      "        square_points += 1\n",
      "    return 4*(cile_points/square_points)"
     ]
    },
    {
     "cell_type": "code",
     "execution_count": 14,
     "id": "34750cf9",
     "metadata": {},
     "outputs": [
      {
       "name": "stdout",
       "output_type": "stream",
       "text": [
        "4.13 s ± 379 ms per loop (mean ± std. dev. of 7 runs, 1 loop each)\n"
       ]
      }
     ],
     "source": [
      "%timeit monte_carlo_pi(10000000)"
     ]
    },
    {
     "cell_type": "markdown",
     "id": "a6398e31",
     "metadata": {},
     "source": [
      "## Numba exercises"
     ]
    },
    {
     "cell_type": "markdown",
     "id": "dce9991f",
     "metadata": {},
     "source": [
      "### Exercise 1\n",
      "\n",
      "Previously we considered how to approximateby Monte Carlo.\n",
      "\n",
      "- Use the same idea here, but make the code efficient using Numba.\n",
      "- Compare speed with and without Numba when the sample size is large."
     ]
    },
    {
     "cell_type": "code",
     "execution_count": 11,
     "id": "ab04602a",
     "metadata": {},
     "outputs": [],
     "source": [
      "# Your code here\n",
      "from numba import jit\n",
      "\n",
      "@jit(nopython=True)\n",
      "\n",
      "def monte_carlo_pi_1(nsamples):\n",
      "    pi = 0.\n",
      "   # Implement your code here\n",
      "    cile_points = 0\n",
      "    square_points = 0\n",
      "    for i in range(nsamples):\n",
      "        x = random.random()\n",
      "        y = random.random()\n",
      "        d = x**2 + y**2\n",
      "        if d<=1:\n",
      "            cile_points += 1\n",
      "        square_points += 1\n",
      "    return 4*(cile_points/square_points)"
     ]
    },
    {
     "cell_type": "code",
     "execution_count": 13,
     "id": "07883dca",
     "metadata": {},
     "outputs": [
      {
       "name": "stdout",
       "output_type": "stream",
       "text": [
        "146 ms ± 22.8 ms per loop (mean ± std. dev. of 7 runs, 10 loops each)\n"
       ]
      }
     ],
     "source": [
      "%timeit monte_carlo_pi_1(10000000)"
     ]
    },
    {
     "cell_type": "markdown",
     "id": "acbb7f84",
     "metadata": {},
     "source": [
      "### Exercise 2 optional\n",
      "\n",
      "In the [Introduction to Quantitative Economics](https://python.quantecon.org/intro.html) with Python lecture series you can learn all about finite-state Markov chains.\n",
      "\n",
      "For now, let's just concentrate on simulating a very simple example of such a chain.\n",
      "\n",
      "Suppose that the volatility of returns on an asset can be in one of two regimes — high or low.\n",
      "\n",
      "The transition probabilities across states are as follows ![markov](../data/markov.png)\n",
      "\n",
      "For example, let the period length be one day, and suppose the current state is high.\n",
      "\n",
      "We see from the graph that the state tomorrow will be\n",
      "\n",
      "- high with probability 0.8\n",
      "\n",
      "- low with probability 0.2\n",
      "\n",
      "Your task is to simulate a sequence of daily volatility states according to this rule.\n",
      "\n",
      "Set the length of the sequence to `n = 1_000_000` and start in the high state.\n",
      "\n",
      "Implement a pure Python version and a Numba version, and compare speeds.\n",
      "\n",
      "To test your code, evaluate the fraction of time that the chain spends in the low state.\n",
      "\n",
      "If your code is correct, it should be about 2/3.\n",
      "\n",
      "Hints:\n",
      "\n",
      "- Represent the low state as 0 and the high state as 1.\n",
      "\n",
      "- If you want to store integers in a NumPy array and then apply JIT compilation, use `x = np.empty(n, dtype=np.int_)`.\n"
     ]
    },
    {
     "cell_type": "code",
     "execution_count": 1,
     "id": "8cc1731e",
     "metadata": {},
     "outputs": [
      {
       "name": "stdout",
       "output_type": "stream",
       "text": [
        "CPU times: user 3 µs, sys: 1 µs, total: 4 µs\n",
        "Wall time: 10.5 µs\n"
       ]
      },
      {
       "data": {
        "text/plain": [
         "array([[0.66666667, 0.33333333],\n",
         "       [0.66666667, 0.33333333]])"
        ]
       },
       "execution_count": 1,
       "metadata": {},
       "output_type": "execute_result"
      }
     ],
     "source": [
      "import numpy as np\n",
      "\n",
      "P = np.array([[0.9, 0.1], [0.2, 0.8]])\n",
      "%time\n",
      "np.linalg.matrix_power(P, 1000000)"
     ]
    },
    {
     "cell_type": "code",
     "execution_count": 33,
     "id": "9a221fd7",
     "metadata": {},
     "outputs": [],
     "source": [
      "from numba import jit\n",
      "\n",
      "@jit(nopython=True)\n",
      "\n",
      "def ex():\n",
      "    return np.linalg.matrix_power(P, 1000000)"
     ]
    },
    {
     "cell_type": "code",
     "execution_count": 32,
     "id": "44562e33",
     "metadata": {},
     "outputs": [
      {
       "name": "stdout",
       "output_type": "stream",
       "text": [
        "CPU times: user 9 µs, sys: 2 µs, total: 11 µs\n",
        "Wall time: 20.5 µs\n"
       ]
      },
      {
       "data": {
        "text/plain": [
         "array([[0.66666667, 0.33333333],\n",
         "       [0.66666667, 0.33333333]])"
        ]
       },
       "execution_count": 32,
       "metadata": {},
       "output_type": "execute_result"
      }
     ],
     "source": [
      "%time\n",
      "ex()"
     ]
    },
    {
     "cell_type": "code",
     "execution_count": 36,
     "id": "5b209552",
     "metadata": {},
     "outputs": [],
     "source": [
      "daily_volatility_states = []\n",
      "\n",
      "#lets start in state 1 (high)\n",
      "daily_volatility_states.append(1)\n",
      "j=1\n",
      "for i in range(1, 1000000):\n",
      "    p = np.random.rand()\n",
      "    if daily_volatility_states[j-1] == 1:\n",
      "        if p >= 0.8:\n",
      "            daily_volatility_states.append(1)\n",
      "            j=j+1\n",
      "        elif p <= 0.2:\n",
      "            daily_volatility_states.append(0)\n",
      "            j=j+1\n",
      "    elif daily_volatility_states[j-1] == 0:\n",
      "        if p >= 0.9:\n",
      "            daily_volatility_states.append(0)\n",
      "            j=j+1\n",
      "        elif p <= 0.1:\n",
      "            daily_volatility_states.append(1)\n",
      "            j=j+1"
     ]
    },
    {
     "cell_type": "code",
     "execution_count": 52,
     "execution_count": 41,
     "id": "0a2ced31",
     "metadata": {},
     "outputs": [
      {
       "data": {
        "text/plain": [
         "[<matplotlib.lines.Line2D at 0x7f5223daa370>]"
        ]
       },
       "execution_count": [52,
         "[<matplotlib.lines.Line2D at 0x7f5222544df0>]"
        ]
       },
       {
       "execution_count": 41,
       "metadata": {},
       "output_type": "execute_result"
      },
      {
       "data": {
        "image/png": "[encoded data removed]",
        "text/plain": [
         "<Figure size 432x288 with 1 Axes>"
        ]
       },
       "metadata": {
        "needs_background": "light"
       },
       "output_type": "display_data"
      }
     ],
     "source": [
      "import matplotlib.pyplot as plt\n",
      "\n",
      "plt.plot(daily_volatility_states[:100])"
     ]
    },
    {
     "cell_type": "code",
     "execution_count": 4,
     "id": "b8ebc397",
     "metadata": {},
     "outputs": [
      {
       "data": {
        "text/plain": [
         "2"
        ]
       },
       "execution_count": 4,
       "metadata": {},
       "output_type": "execute_result"
      }
     ],
     "source": [
      "daily_volatility_states[0]"
     ]
    },
    {
     "cell_type": "code",
     "execution_count": 68,
     "id": "6c5cd72c",
     "metadata": {},
     "outputs": [
      {
       "data": {
        "text/plain": [
         "3.14"
        ]
       },
       "execution_count": 68,
       "metadata": {},
       "output_type": "execute_result"
      }
     ],
     "source": [
      "class circle:\n",
      "    pi = 3.14\n",
      "    def __init__(self, r):\n",
      "        self.raduis = r\n",
      "    def area(self):\n",
      "        return self.pi*self.raduis**2\n",
      "\n",
      "        \n",
      "\n",
      "c = circle(1)\n",
      "c.area()"
     ]
    },
    {
     "cell_type": "code",
     "execution_count": 66,
     "id": "5f13215f",
     "metadata": {},
     "outputs": [
      {
       "name": "stdout",
       "output_type": "stream",
       "text": [
        "{'__module__': '__main__', 'pi': 3.14, '__init__': <function circle.__init__ at 0x7f52224d3430>, 'area': <function circle.area at 0x7f52224d33a0>, '__dict__': <attribute '__dict__' of 'circle' objects>, '__weakref__': <attribute '__weakref__' of 'circle' objects>, '__doc__': None}\n"
       ]
      }
     ],
     "source": [
      "print(circle.__dict__)"
     ]
    },
    {
     "cell_type": "code",
     "execution_count": null,
     "id": "b3aacc9b",
     "metadata": {},
     "outputs": [],
     "source": [
      "attributes -> classs instance\n",
      "\n",
      "mehod -> instance static classs"
     ],
     "execution_count": null,
     "id": "6c5cd72c",
     "metadata": {},
     "outputs": [],
     "source": []
    }
   ],
   "metadata": {
    "hide_input": false,
    "kernelspec": {
     "display_name": "Python 3 (ipykernel)",
     "language": "python",
     "name": "python3"
    },
    "language_info": {
     "codemirror_mode": {
      "name": "ipython",
      "version": 3
     },
     "file_extension": ".py",
     "mimetype": "text/x-python",
     "name": "python",
     "nbconvert_exporter": "python",
     "pygments_lexer": "ipython3",
     "version": "3.8.10"
    }
   },
   "nbformat": 4,
   "nbformat_minor": 5
  }
  